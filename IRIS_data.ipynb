{
  "nbformat": 4,
  "nbformat_minor": 0,
  "metadata": {
    "colab": {
      "name": "IRIS_data.ipynb",
      "provenance": [],
      "collapsed_sections": []
    },
    "kernelspec": {
      "name": "python3",
      "display_name": "Python 3"
    }
  },
  "cells": [
    {
      "cell_type": "code",
      "metadata": {
        "id": "E1KqER5biwi3",
        "colab_type": "code",
        "colab": {}
      },
      "source": [
        "import pandas as pd\n",
        "import numpy as np\n",
        "import tensorflow\n",
        "from tensorflow import keras\n",
        "from keras.models import Sequential\n",
        "from keras.layers import Dense\n",
        "import seaborn as sns"
      ],
      "execution_count": 0,
      "outputs": []
    },
    {
      "cell_type": "code",
      "metadata": {
        "id": "1_KSqOWWk24-",
        "colab_type": "code",
        "outputId": "f9753a2b-3335-4235-fa31-a409bc32a85c",
        "colab": {
          "base_uri": "https://localhost:8080/",
          "height": 204
        }
      },
      "source": [
        "data = pd.read_csv('iris.data')\n",
        "data.head()"
      ],
      "execution_count": 0,
      "outputs": [
        {
          "output_type": "execute_result",
          "data": {
            "text/html": [
              "<div>\n",
              "<style scoped>\n",
              "    .dataframe tbody tr th:only-of-type {\n",
              "        vertical-align: middle;\n",
              "    }\n",
              "\n",
              "    .dataframe tbody tr th {\n",
              "        vertical-align: top;\n",
              "    }\n",
              "\n",
              "    .dataframe thead th {\n",
              "        text-align: right;\n",
              "    }\n",
              "</style>\n",
              "<table border=\"1\" class=\"dataframe\">\n",
              "  <thead>\n",
              "    <tr style=\"text-align: right;\">\n",
              "      <th></th>\n",
              "      <th>5.1</th>\n",
              "      <th>3.5</th>\n",
              "      <th>1.4</th>\n",
              "      <th>0.2</th>\n",
              "      <th>Iris-setosa</th>\n",
              "    </tr>\n",
              "  </thead>\n",
              "  <tbody>\n",
              "    <tr>\n",
              "      <th>0</th>\n",
              "      <td>4.9</td>\n",
              "      <td>3.0</td>\n",
              "      <td>1.4</td>\n",
              "      <td>0.2</td>\n",
              "      <td>Iris-setosa</td>\n",
              "    </tr>\n",
              "    <tr>\n",
              "      <th>1</th>\n",
              "      <td>4.7</td>\n",
              "      <td>3.2</td>\n",
              "      <td>1.3</td>\n",
              "      <td>0.2</td>\n",
              "      <td>Iris-setosa</td>\n",
              "    </tr>\n",
              "    <tr>\n",
              "      <th>2</th>\n",
              "      <td>4.6</td>\n",
              "      <td>3.1</td>\n",
              "      <td>1.5</td>\n",
              "      <td>0.2</td>\n",
              "      <td>Iris-setosa</td>\n",
              "    </tr>\n",
              "    <tr>\n",
              "      <th>3</th>\n",
              "      <td>5.0</td>\n",
              "      <td>3.6</td>\n",
              "      <td>1.4</td>\n",
              "      <td>0.2</td>\n",
              "      <td>Iris-setosa</td>\n",
              "    </tr>\n",
              "    <tr>\n",
              "      <th>4</th>\n",
              "      <td>5.4</td>\n",
              "      <td>3.9</td>\n",
              "      <td>1.7</td>\n",
              "      <td>0.4</td>\n",
              "      <td>Iris-setosa</td>\n",
              "    </tr>\n",
              "  </tbody>\n",
              "</table>\n",
              "</div>"
            ],
            "text/plain": [
              "   5.1  3.5  1.4  0.2  Iris-setosa\n",
              "0  4.9  3.0  1.4  0.2  Iris-setosa\n",
              "1  4.7  3.2  1.3  0.2  Iris-setosa\n",
              "2  4.6  3.1  1.5  0.2  Iris-setosa\n",
              "3  5.0  3.6  1.4  0.2  Iris-setosa\n",
              "4  5.4  3.9  1.7  0.4  Iris-setosa"
            ]
          },
          "metadata": {
            "tags": []
          },
          "execution_count": 3
        }
      ]
    },
    {
      "cell_type": "code",
      "metadata": {
        "id": "sIR5ZLiNlInM",
        "colab_type": "code",
        "colab": {}
      },
      "source": [
        "X = data.iloc[:,0:4].values\n",
        "y = data.iloc[:,4:].values"
      ],
      "execution_count": 0,
      "outputs": []
    },
    {
      "cell_type": "code",
      "metadata": {
        "id": "_tvgVKhmpbAN",
        "colab_type": "code",
        "outputId": "45eb3c2a-1e1d-4cbe-96ea-bdf5af863e9b",
        "colab": {
          "base_uri": "https://localhost:8080/",
          "height": 71
        }
      },
      "source": [
        "from sklearn.preprocessing import LabelEncoder\n",
        "label_encoder = LabelEncoder()\n",
        "y1 = label_encoder.fit_transform(y)\n",
        "Y = pd.get_dummies(y1).values"
      ],
      "execution_count": 0,
      "outputs": [
        {
          "output_type": "stream",
          "text": [
            "/usr/local/lib/python3.6/dist-packages/sklearn/preprocessing/_label.py:251: DataConversionWarning: A column-vector y was passed when a 1d array was expected. Please change the shape of y to (n_samples, ), for example using ravel().\n",
            "  y = column_or_1d(y, warn=True)\n"
          ],
          "name": "stderr"
        }
      ]
    },
    {
      "cell_type": "code",
      "metadata": {
        "id": "TKBCuOV8lQJ9",
        "colab_type": "code",
        "colab": {}
      },
      "source": [
        "from sklearn.model_selection import train_test_split\n",
        "X_train,X_test,y_train,y_test = train_test_split(X,Y,test_size=0.2,random_state=0)"
      ],
      "execution_count": 0,
      "outputs": []
    },
    {
      "cell_type": "code",
      "metadata": {
        "id": "9GxCIlXnlonU",
        "colab_type": "code",
        "outputId": "edd73829-600d-4342-d976-5a2c979f094b",
        "colab": {
          "base_uri": "https://localhost:8080/",
          "height": 71
        }
      },
      "source": [
        "\n"
      ],
      "execution_count": 0,
      "outputs": [
        {
          "output_type": "stream",
          "text": [
            "/usr/local/lib/python3.6/dist-packages/sklearn/preprocessing/_label.py:251: DataConversionWarning: A column-vector y was passed when a 1d array was expected. Please change the shape of y to (n_samples, ), for example using ravel().\n",
            "  y = column_or_1d(y, warn=True)\n"
          ],
          "name": "stderr"
        }
      ]
    },
    {
      "cell_type": "code",
      "metadata": {
        "id": "yr8ML6LUl-Xk",
        "colab_type": "code",
        "outputId": "d7029edd-8da9-47f5-d0ce-887bc695087a",
        "colab": {
          "base_uri": "https://localhost:8080/",
          "height": 136
        }
      },
      "source": [
        "y1"
      ],
      "execution_count": 0,
      "outputs": [
        {
          "output_type": "execute_result",
          "data": {
            "text/plain": [
              "array([0, 0, 0, 0, 0, 0, 0, 0, 0, 0, 0, 0, 0, 0, 0, 0, 0, 0, 0, 0, 0, 0,\n",
              "       0, 0, 0, 0, 0, 0, 0, 0, 0, 0, 0, 0, 0, 0, 0, 0, 0, 0, 0, 0, 0, 0,\n",
              "       0, 0, 0, 0, 0, 1, 1, 1, 1, 1, 1, 1, 1, 1, 1, 1, 1, 1, 1, 1, 1, 1,\n",
              "       1, 1, 1, 1, 1, 1, 1, 1, 1, 1, 1, 1, 1, 1, 1, 1, 1, 1, 1, 1, 1, 1,\n",
              "       1, 1, 1, 1, 1, 1, 1, 1, 1, 1, 1, 2, 2, 2, 2, 2, 2, 2, 2, 2, 2, 2,\n",
              "       2, 2, 2, 2, 2, 2, 2, 2, 2, 2, 2, 2, 2, 2, 2, 2, 2, 2, 2, 2, 2, 2,\n",
              "       2, 2, 2, 2, 2, 2, 2, 2, 2, 2, 2, 2, 2, 2, 2, 2, 2])"
            ]
          },
          "metadata": {
            "tags": []
          },
          "execution_count": 38
        }
      ]
    },
    {
      "cell_type": "code",
      "metadata": {
        "id": "Byn1VOzimAf8",
        "colab_type": "code",
        "outputId": "e3058e32-fbba-443b-9f23-b495a6342d99",
        "colab": {
          "base_uri": "https://localhost:8080/",
          "height": 1000
        }
      },
      "source": [
        "Y"
      ],
      "execution_count": 0,
      "outputs": [
        {
          "output_type": "execute_result",
          "data": {
            "text/plain": [
              "array([[1, 0, 0],\n",
              "       [1, 0, 0],\n",
              "       [1, 0, 0],\n",
              "       [1, 0, 0],\n",
              "       [1, 0, 0],\n",
              "       [1, 0, 0],\n",
              "       [1, 0, 0],\n",
              "       [1, 0, 0],\n",
              "       [1, 0, 0],\n",
              "       [1, 0, 0],\n",
              "       [1, 0, 0],\n",
              "       [1, 0, 0],\n",
              "       [1, 0, 0],\n",
              "       [1, 0, 0],\n",
              "       [1, 0, 0],\n",
              "       [1, 0, 0],\n",
              "       [1, 0, 0],\n",
              "       [1, 0, 0],\n",
              "       [1, 0, 0],\n",
              "       [1, 0, 0],\n",
              "       [1, 0, 0],\n",
              "       [1, 0, 0],\n",
              "       [1, 0, 0],\n",
              "       [1, 0, 0],\n",
              "       [1, 0, 0],\n",
              "       [1, 0, 0],\n",
              "       [1, 0, 0],\n",
              "       [1, 0, 0],\n",
              "       [1, 0, 0],\n",
              "       [1, 0, 0],\n",
              "       [1, 0, 0],\n",
              "       [1, 0, 0],\n",
              "       [1, 0, 0],\n",
              "       [1, 0, 0],\n",
              "       [1, 0, 0],\n",
              "       [1, 0, 0],\n",
              "       [1, 0, 0],\n",
              "       [1, 0, 0],\n",
              "       [1, 0, 0],\n",
              "       [1, 0, 0],\n",
              "       [1, 0, 0],\n",
              "       [1, 0, 0],\n",
              "       [1, 0, 0],\n",
              "       [1, 0, 0],\n",
              "       [1, 0, 0],\n",
              "       [1, 0, 0],\n",
              "       [1, 0, 0],\n",
              "       [1, 0, 0],\n",
              "       [1, 0, 0],\n",
              "       [0, 1, 0],\n",
              "       [0, 1, 0],\n",
              "       [0, 1, 0],\n",
              "       [0, 1, 0],\n",
              "       [0, 1, 0],\n",
              "       [0, 1, 0],\n",
              "       [0, 1, 0],\n",
              "       [0, 1, 0],\n",
              "       [0, 1, 0],\n",
              "       [0, 1, 0],\n",
              "       [0, 1, 0],\n",
              "       [0, 1, 0],\n",
              "       [0, 1, 0],\n",
              "       [0, 1, 0],\n",
              "       [0, 1, 0],\n",
              "       [0, 1, 0],\n",
              "       [0, 1, 0],\n",
              "       [0, 1, 0],\n",
              "       [0, 1, 0],\n",
              "       [0, 1, 0],\n",
              "       [0, 1, 0],\n",
              "       [0, 1, 0],\n",
              "       [0, 1, 0],\n",
              "       [0, 1, 0],\n",
              "       [0, 1, 0],\n",
              "       [0, 1, 0],\n",
              "       [0, 1, 0],\n",
              "       [0, 1, 0],\n",
              "       [0, 1, 0],\n",
              "       [0, 1, 0],\n",
              "       [0, 1, 0],\n",
              "       [0, 1, 0],\n",
              "       [0, 1, 0],\n",
              "       [0, 1, 0],\n",
              "       [0, 1, 0],\n",
              "       [0, 1, 0],\n",
              "       [0, 1, 0],\n",
              "       [0, 1, 0],\n",
              "       [0, 1, 0],\n",
              "       [0, 1, 0],\n",
              "       [0, 1, 0],\n",
              "       [0, 1, 0],\n",
              "       [0, 1, 0],\n",
              "       [0, 1, 0],\n",
              "       [0, 1, 0],\n",
              "       [0, 1, 0],\n",
              "       [0, 1, 0],\n",
              "       [0, 1, 0],\n",
              "       [0, 1, 0],\n",
              "       [0, 1, 0],\n",
              "       [0, 0, 1],\n",
              "       [0, 0, 1],\n",
              "       [0, 0, 1],\n",
              "       [0, 0, 1],\n",
              "       [0, 0, 1],\n",
              "       [0, 0, 1],\n",
              "       [0, 0, 1],\n",
              "       [0, 0, 1],\n",
              "       [0, 0, 1],\n",
              "       [0, 0, 1],\n",
              "       [0, 0, 1],\n",
              "       [0, 0, 1],\n",
              "       [0, 0, 1],\n",
              "       [0, 0, 1],\n",
              "       [0, 0, 1],\n",
              "       [0, 0, 1],\n",
              "       [0, 0, 1],\n",
              "       [0, 0, 1],\n",
              "       [0, 0, 1],\n",
              "       [0, 0, 1],\n",
              "       [0, 0, 1],\n",
              "       [0, 0, 1],\n",
              "       [0, 0, 1],\n",
              "       [0, 0, 1],\n",
              "       [0, 0, 1],\n",
              "       [0, 0, 1],\n",
              "       [0, 0, 1],\n",
              "       [0, 0, 1],\n",
              "       [0, 0, 1],\n",
              "       [0, 0, 1],\n",
              "       [0, 0, 1],\n",
              "       [0, 0, 1],\n",
              "       [0, 0, 1],\n",
              "       [0, 0, 1],\n",
              "       [0, 0, 1],\n",
              "       [0, 0, 1],\n",
              "       [0, 0, 1],\n",
              "       [0, 0, 1],\n",
              "       [0, 0, 1],\n",
              "       [0, 0, 1],\n",
              "       [0, 0, 1],\n",
              "       [0, 0, 1],\n",
              "       [0, 0, 1],\n",
              "       [0, 0, 1],\n",
              "       [0, 0, 1],\n",
              "       [0, 0, 1],\n",
              "       [0, 0, 1],\n",
              "       [0, 0, 1],\n",
              "       [0, 0, 1],\n",
              "       [0, 0, 1]], dtype=uint8)"
            ]
          },
          "metadata": {
            "tags": []
          },
          "execution_count": 39
        }
      ]
    },
    {
      "cell_type": "code",
      "metadata": {
        "id": "JgLZbgJOmBuE",
        "colab_type": "code",
        "colab": {}
      },
      "source": [
        "#baseline model:\n",
        "model = Sequential()\n",
        "#first layer\n",
        "model.add(Dense(4,activation = 'relu',input_shape=(4,)))\n",
        "#output layer\n",
        "model.add(Dense(3,activation='softmax'))\n"
      ],
      "execution_count": 0,
      "outputs": []
    },
    {
      "cell_type": "code",
      "metadata": {
        "id": "Qub7-OWTmjZs",
        "colab_type": "code",
        "colab": {}
      },
      "source": [
        "model.compile(optimizer='Adam',loss='categorical_crossentropy',metrics=['accuracy'])\n"
      ],
      "execution_count": 0,
      "outputs": []
    },
    {
      "cell_type": "code",
      "metadata": {
        "id": "PaG8KBKlm5Ce",
        "colab_type": "code",
        "outputId": "7f7e1f51-f930-4456-bf2d-60816e2b8f3d",
        "colab": {
          "base_uri": "https://localhost:8080/",
          "height": 1000
        }
      },
      "source": [
        "model.fit(X_train,y_train,epochs=100,batch_size = 10)"
      ],
      "execution_count": 0,
      "outputs": [
        {
          "output_type": "stream",
          "text": [
            "WARNING:tensorflow:From /usr/local/lib/python3.6/dist-packages/tensorflow_core/python/ops/math_grad.py:1424: where (from tensorflow.python.ops.array_ops) is deprecated and will be removed in a future version.\n",
            "Instructions for updating:\n",
            "Use tf.where in 2.0, which has the same broadcast rule as np.where\n",
            "Epoch 1/100\n",
            "119/119 [==============================] - 1s 6ms/step - loss: 0.9193 - acc: 0.3361\n",
            "Epoch 2/100\n",
            "119/119 [==============================] - 0s 139us/step - loss: 0.9012 - acc: 0.3361\n",
            "Epoch 3/100\n",
            "119/119 [==============================] - 0s 158us/step - loss: 0.8826 - acc: 0.3361\n",
            "Epoch 4/100\n",
            "119/119 [==============================] - 0s 245us/step - loss: 0.8613 - acc: 0.3361\n",
            "Epoch 5/100\n",
            "119/119 [==============================] - 0s 137us/step - loss: 0.8396 - acc: 0.3361\n",
            "Epoch 6/100\n",
            "119/119 [==============================] - 0s 142us/step - loss: 0.8185 - acc: 0.5462\n",
            "Epoch 7/100\n",
            "119/119 [==============================] - 0s 135us/step - loss: 0.7969 - acc: 0.6050\n",
            "Epoch 8/100\n",
            "119/119 [==============================] - 0s 139us/step - loss: 0.7759 - acc: 0.6555\n",
            "Epoch 9/100\n",
            "119/119 [==============================] - 0s 144us/step - loss: 0.7553 - acc: 0.7059\n",
            "Epoch 10/100\n",
            "119/119 [==============================] - 0s 162us/step - loss: 0.7353 - acc: 0.7899\n",
            "Epoch 11/100\n",
            "119/119 [==============================] - 0s 140us/step - loss: 0.7171 - acc: 0.8403\n",
            "Epoch 12/100\n",
            "119/119 [==============================] - 0s 139us/step - loss: 0.6983 - acc: 0.8992\n",
            "Epoch 13/100\n",
            "119/119 [==============================] - 0s 212us/step - loss: 0.6818 - acc: 0.9076\n",
            "Epoch 14/100\n",
            "119/119 [==============================] - 0s 138us/step - loss: 0.6649 - acc: 0.9076\n",
            "Epoch 15/100\n",
            "119/119 [==============================] - 0s 159us/step - loss: 0.6504 - acc: 0.8739\n",
            "Epoch 16/100\n",
            "119/119 [==============================] - 0s 206us/step - loss: 0.6351 - acc: 0.8655\n",
            "Epoch 17/100\n",
            "119/119 [==============================] - 0s 155us/step - loss: 0.6216 - acc: 0.8403\n",
            "Epoch 18/100\n",
            "119/119 [==============================] - 0s 152us/step - loss: 0.6080 - acc: 0.8403\n",
            "Epoch 19/100\n",
            "119/119 [==============================] - 0s 166us/step - loss: 0.5959 - acc: 0.8403\n",
            "Epoch 20/100\n",
            "119/119 [==============================] - 0s 186us/step - loss: 0.5834 - acc: 0.8319\n",
            "Epoch 21/100\n",
            "119/119 [==============================] - 0s 176us/step - loss: 0.5724 - acc: 0.8319\n",
            "Epoch 22/100\n",
            "119/119 [==============================] - 0s 189us/step - loss: 0.5613 - acc: 0.8319\n",
            "Epoch 23/100\n",
            "119/119 [==============================] - 0s 153us/step - loss: 0.5507 - acc: 0.8319\n",
            "Epoch 24/100\n",
            "119/119 [==============================] - 0s 187us/step - loss: 0.5410 - acc: 0.8403\n",
            "Epoch 25/100\n",
            "119/119 [==============================] - 0s 148us/step - loss: 0.5312 - acc: 0.8319\n",
            "Epoch 26/100\n",
            "119/119 [==============================] - 0s 151us/step - loss: 0.5219 - acc: 0.8403\n",
            "Epoch 27/100\n",
            "119/119 [==============================] - 0s 170us/step - loss: 0.5134 - acc: 0.8908\n",
            "Epoch 28/100\n",
            "119/119 [==============================] - 0s 175us/step - loss: 0.5052 - acc: 0.8824\n",
            "Epoch 29/100\n",
            "119/119 [==============================] - 0s 162us/step - loss: 0.4967 - acc: 0.8824\n",
            "Epoch 30/100\n",
            "119/119 [==============================] - 0s 179us/step - loss: 0.4892 - acc: 0.8908\n",
            "Epoch 31/100\n",
            "119/119 [==============================] - 0s 158us/step - loss: 0.4821 - acc: 0.8908\n",
            "Epoch 32/100\n",
            "119/119 [==============================] - 0s 145us/step - loss: 0.4750 - acc: 0.8908\n",
            "Epoch 33/100\n",
            "119/119 [==============================] - 0s 161us/step - loss: 0.4694 - acc: 0.8908\n",
            "Epoch 34/100\n",
            "119/119 [==============================] - 0s 155us/step - loss: 0.4615 - acc: 0.8908\n",
            "Epoch 35/100\n",
            "119/119 [==============================] - 0s 149us/step - loss: 0.4556 - acc: 0.8992\n",
            "Epoch 36/100\n",
            "119/119 [==============================] - 0s 154us/step - loss: 0.4496 - acc: 0.9244\n",
            "Epoch 37/100\n",
            "119/119 [==============================] - 0s 162us/step - loss: 0.4438 - acc: 0.9328\n",
            "Epoch 38/100\n",
            "119/119 [==============================] - 0s 174us/step - loss: 0.4398 - acc: 0.9076\n",
            "Epoch 39/100\n",
            "119/119 [==============================] - 0s 175us/step - loss: 0.4335 - acc: 0.9244\n",
            "Epoch 40/100\n",
            "119/119 [==============================] - 0s 180us/step - loss: 0.4278 - acc: 0.9412\n",
            "Epoch 41/100\n",
            "119/119 [==============================] - 0s 152us/step - loss: 0.4227 - acc: 0.9412\n",
            "Epoch 42/100\n",
            "119/119 [==============================] - 0s 171us/step - loss: 0.4179 - acc: 0.9412\n",
            "Epoch 43/100\n",
            "119/119 [==============================] - 0s 179us/step - loss: 0.4137 - acc: 0.9412\n",
            "Epoch 44/100\n",
            "119/119 [==============================] - 0s 146us/step - loss: 0.4084 - acc: 0.9412\n",
            "Epoch 45/100\n",
            "119/119 [==============================] - 0s 205us/step - loss: 0.4042 - acc: 0.9412\n",
            "Epoch 46/100\n",
            "119/119 [==============================] - 0s 187us/step - loss: 0.3997 - acc: 0.9412\n",
            "Epoch 47/100\n",
            "119/119 [==============================] - 0s 158us/step - loss: 0.3960 - acc: 0.9412\n",
            "Epoch 48/100\n",
            "119/119 [==============================] - 0s 186us/step - loss: 0.3919 - acc: 0.9412\n",
            "Epoch 49/100\n",
            "119/119 [==============================] - 0s 175us/step - loss: 0.3878 - acc: 0.9412\n",
            "Epoch 50/100\n",
            "119/119 [==============================] - 0s 170us/step - loss: 0.3838 - acc: 0.9412\n",
            "Epoch 51/100\n",
            "119/119 [==============================] - 0s 201us/step - loss: 0.3802 - acc: 0.9412\n",
            "Epoch 52/100\n",
            "119/119 [==============================] - 0s 156us/step - loss: 0.3770 - acc: 0.9412\n",
            "Epoch 53/100\n",
            "119/119 [==============================] - 0s 172us/step - loss: 0.3728 - acc: 0.9412\n",
            "Epoch 54/100\n",
            "119/119 [==============================] - 0s 145us/step - loss: 0.3691 - acc: 0.9412\n",
            "Epoch 55/100\n",
            "119/119 [==============================] - 0s 162us/step - loss: 0.3658 - acc: 0.9496\n",
            "Epoch 56/100\n",
            "119/119 [==============================] - 0s 180us/step - loss: 0.3621 - acc: 0.9412\n",
            "Epoch 57/100\n",
            "119/119 [==============================] - 0s 144us/step - loss: 0.3590 - acc: 0.9412\n",
            "Epoch 58/100\n",
            "119/119 [==============================] - 0s 192us/step - loss: 0.3564 - acc: 0.9412\n",
            "Epoch 59/100\n",
            "119/119 [==============================] - 0s 155us/step - loss: 0.3526 - acc: 0.9412\n",
            "Epoch 60/100\n",
            "119/119 [==============================] - 0s 150us/step - loss: 0.3492 - acc: 0.9412\n",
            "Epoch 61/100\n",
            "119/119 [==============================] - 0s 164us/step - loss: 0.3464 - acc: 0.9496\n",
            "Epoch 62/100\n",
            "119/119 [==============================] - 0s 150us/step - loss: 0.3445 - acc: 0.9496\n",
            "Epoch 63/100\n",
            "119/119 [==============================] - 0s 157us/step - loss: 0.3397 - acc: 0.9412\n",
            "Epoch 64/100\n",
            "119/119 [==============================] - 0s 155us/step - loss: 0.3373 - acc: 0.9580\n",
            "Epoch 65/100\n",
            "119/119 [==============================] - 0s 243us/step - loss: 0.3341 - acc: 0.9496\n",
            "Epoch 66/100\n",
            "119/119 [==============================] - 0s 167us/step - loss: 0.3312 - acc: 0.9496\n",
            "Epoch 67/100\n",
            "119/119 [==============================] - 0s 205us/step - loss: 0.3289 - acc: 0.9412\n",
            "Epoch 68/100\n",
            "119/119 [==============================] - 0s 172us/step - loss: 0.3258 - acc: 0.9412\n",
            "Epoch 69/100\n",
            "119/119 [==============================] - 0s 153us/step - loss: 0.3244 - acc: 0.9496\n",
            "Epoch 70/100\n",
            "119/119 [==============================] - 0s 165us/step - loss: 0.3202 - acc: 0.9580\n",
            "Epoch 71/100\n",
            "119/119 [==============================] - 0s 161us/step - loss: 0.3179 - acc: 0.9580\n",
            "Epoch 72/100\n",
            "119/119 [==============================] - 0s 151us/step - loss: 0.3152 - acc: 0.9580\n",
            "Epoch 73/100\n",
            "119/119 [==============================] - 0s 158us/step - loss: 0.3125 - acc: 0.9580\n",
            "Epoch 74/100\n",
            "119/119 [==============================] - 0s 220us/step - loss: 0.3099 - acc: 0.9580\n",
            "Epoch 75/100\n",
            "119/119 [==============================] - 0s 169us/step - loss: 0.3072 - acc: 0.9496\n",
            "Epoch 76/100\n",
            "119/119 [==============================] - 0s 176us/step - loss: 0.3059 - acc: 0.9496\n",
            "Epoch 77/100\n",
            "119/119 [==============================] - 0s 172us/step - loss: 0.3021 - acc: 0.9496\n",
            "Epoch 78/100\n",
            "119/119 [==============================] - 0s 164us/step - loss: 0.3009 - acc: 0.9580\n",
            "Epoch 79/100\n",
            "119/119 [==============================] - 0s 149us/step - loss: 0.2975 - acc: 0.9580\n",
            "Epoch 80/100\n",
            "119/119 [==============================] - 0s 164us/step - loss: 0.2960 - acc: 0.9496\n",
            "Epoch 81/100\n",
            "119/119 [==============================] - 0s 149us/step - loss: 0.2941 - acc: 0.9496\n",
            "Epoch 82/100\n",
            "119/119 [==============================] - 0s 149us/step - loss: 0.2906 - acc: 0.9580\n",
            "Epoch 83/100\n",
            "119/119 [==============================] - 0s 158us/step - loss: 0.2889 - acc: 0.9580\n",
            "Epoch 84/100\n",
            "119/119 [==============================] - 0s 162us/step - loss: 0.2862 - acc: 0.9580\n",
            "Epoch 85/100\n",
            "119/119 [==============================] - 0s 147us/step - loss: 0.2852 - acc: 0.9496\n",
            "Epoch 86/100\n",
            "119/119 [==============================] - 0s 179us/step - loss: 0.2820 - acc: 0.9580\n",
            "Epoch 87/100\n",
            "119/119 [==============================] - 0s 166us/step - loss: 0.2809 - acc: 0.9580\n",
            "Epoch 88/100\n",
            "119/119 [==============================] - 0s 235us/step - loss: 0.2778 - acc: 0.9580\n",
            "Epoch 89/100\n",
            "119/119 [==============================] - 0s 170us/step - loss: 0.2754 - acc: 0.9580\n",
            "Epoch 90/100\n",
            "119/119 [==============================] - 0s 160us/step - loss: 0.2743 - acc: 0.9580\n",
            "Epoch 91/100\n",
            "119/119 [==============================] - 0s 164us/step - loss: 0.2713 - acc: 0.9580\n",
            "Epoch 92/100\n",
            "119/119 [==============================] - 0s 172us/step - loss: 0.2712 - acc: 0.9496\n",
            "Epoch 93/100\n",
            "119/119 [==============================] - 0s 172us/step - loss: 0.2677 - acc: 0.9580\n",
            "Epoch 94/100\n",
            "119/119 [==============================] - 0s 154us/step - loss: 0.2653 - acc: 0.9664\n",
            "Epoch 95/100\n",
            "119/119 [==============================] - 0s 150us/step - loss: 0.2638 - acc: 0.9664\n",
            "Epoch 96/100\n",
            "119/119 [==============================] - 0s 171us/step - loss: 0.2629 - acc: 0.9580\n",
            "Epoch 97/100\n",
            "119/119 [==============================] - 0s 187us/step - loss: 0.2595 - acc: 0.9580\n",
            "Epoch 98/100\n",
            "119/119 [==============================] - 0s 153us/step - loss: 0.2577 - acc: 0.9580\n",
            "Epoch 99/100\n",
            "119/119 [==============================] - 0s 142us/step - loss: 0.2556 - acc: 0.9664\n",
            "Epoch 100/100\n",
            "119/119 [==============================] - 0s 153us/step - loss: 0.2538 - acc: 0.9580\n"
          ],
          "name": "stdout"
        },
        {
          "output_type": "execute_result",
          "data": {
            "text/plain": [
              "<keras.callbacks.History at 0x7f0a336f96a0>"
            ]
          },
          "metadata": {
            "tags": []
          },
          "execution_count": 42
        }
      ]
    },
    {
      "cell_type": "code",
      "metadata": {
        "id": "SZCYTVCpnEY2",
        "colab_type": "code",
        "colab": {}
      },
      "source": [
        "y_pred = model.predict(X_test)\n",
        "y_test_class = np.argmax(y_test,axis=1)\n",
        "y_pred_class = np.argmax(y_pred,axis=1)"
      ],
      "execution_count": 0,
      "outputs": []
    },
    {
      "cell_type": "code",
      "metadata": {
        "id": "heWFwr4Qp-bc",
        "colab_type": "code",
        "outputId": "b700ffeb-9b4f-407c-90f3-10b05978d64b",
        "colab": {
          "base_uri": "https://localhost:8080/",
          "height": 238
        }
      },
      "source": [
        "from sklearn.metrics import classification_report,confusion_matrix\n",
        "print(classification_report(y_test_class,y_pred_class))\n",
        "print(confusion_matrix(y_test_class,y_pred_class))"
      ],
      "execution_count": 0,
      "outputs": [
        {
          "output_type": "stream",
          "text": [
            "              precision    recall  f1-score   support\n",
            "\n",
            "           0       1.00      1.00      1.00        12\n",
            "           1       1.00      1.00      1.00        10\n",
            "           2       1.00      1.00      1.00         8\n",
            "\n",
            "    accuracy                           1.00        30\n",
            "   macro avg       1.00      1.00      1.00        30\n",
            "weighted avg       1.00      1.00      1.00        30\n",
            "\n",
            "[[12  0  0]\n",
            " [ 0 10  0]\n",
            " [ 0  0  8]]\n"
          ],
          "name": "stdout"
        }
      ]
    },
    {
      "cell_type": "code",
      "metadata": {
        "id": "IOYHzk49qC-e",
        "colab_type": "code",
        "outputId": "40c97278-9290-4d4c-970d-599971583f28",
        "colab": {
          "base_uri": "https://localhost:8080/",
          "height": 34
        }
      },
      "source": [
        "(12+10+8)/(12+10+8)"
      ],
      "execution_count": 0,
      "outputs": [
        {
          "output_type": "execute_result",
          "data": {
            "text/plain": [
              "1.0"
            ]
          },
          "metadata": {
            "tags": []
          },
          "execution_count": 47
        }
      ]
    },
    {
      "cell_type": "code",
      "metadata": {
        "id": "fQauo2Z5qiWF",
        "colab_type": "code",
        "colab": {}
      },
      "source": [
        ""
      ],
      "execution_count": 0,
      "outputs": []
    }
  ]
}