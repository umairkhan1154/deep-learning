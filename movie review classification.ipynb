{
 "cells": [
  {
   "cell_type": "markdown",
   "metadata": {},
   "source": [
    "# Classifying movie reviews:\n",
    "a binary classification example"
   ]
  },
  {
   "cell_type": "code",
   "execution_count": 1,
   "metadata": {},
   "outputs": [],
   "source": [
    "from tensorflow.keras.datasets import imdb"
   ]
  },
  {
   "cell_type": "code",
   "execution_count": 2,
   "metadata": {},
   "outputs": [],
   "source": [
    "(train_data , train_labels) , (test_data , test_labels) = imdb.load_data(num_words = 10000)\n",
    "#num_words islu q k hmnu sbsy ziada repeat huny waly words ko lya hai means k jo ziada rare hun unko lya hai\n",
    "#train data and test data are lsit or reviews\n",
    "# train labels and test labels are list of 0 and 1 where 0 is -ve and 1 s +ve"
   ]
  },
  {
   "cell_type": "markdown",
   "metadata": {},
   "source": [
    "# Encoding the integer sequences into a binary matrix"
   ]
  },
  {
   "cell_type": "code",
   "execution_count": 3,
   "metadata": {},
   "outputs": [],
   "source": [
    "import numpy as np\n",
    "def f(a):\n",
    "    d =10000\n",
    "    results = np.zeros((len(a),d))\n",
    "    for a in enumerate(a):\n",
    "        results[a] = 1\n",
    "    return results"
   ]
  },
  {
   "cell_type": "code",
   "execution_count": 4,
   "metadata": {},
   "outputs": [],
   "source": [
    "x_train = f(train_data)\n",
    "x_test = f(test_data)"
   ]
  },
  {
   "cell_type": "code",
   "execution_count": 5,
   "metadata": {},
   "outputs": [],
   "source": [
    "y_train = np.array(train_labels).astype(\"float32\")\n",
    "y_test = np.array(test_labels).astype(\"float32\")"
   ]
  },
  {
   "cell_type": "code",
   "execution_count": 6,
   "metadata": {},
   "outputs": [],
   "source": [
    "# ye krny ki waja ye hai q k har label ko binary encoding m convert krna tha second q k hm neural netwrok me ik tarah la\n",
    "#output deskty hain means ik lenght ka to hmny  data ko 10000 ki dimension me convert krlya means \n",
    "#labels me pehly yaha kcuh values  thy lekn ub 10000 hain or hmny loop esa lgaya hai k jaha usko value mlegi wahe wo 1 put\n",
    "#krega otherwise sbko zero rehne dega"
   ]
  },
  {
   "cell_type": "markdown",
   "metadata": {},
   "source": [
    "# Building your network"
   ]
  },
  {
   "cell_type": "code",
   "execution_count": 7,
   "metadata": {},
   "outputs": [],
   "source": [
    "#data is vectors and labels are scalors"
   ]
  },
  {
   "cell_type": "markdown",
   "metadata": {},
   "source": [
    "# model definition"
   ]
  },
  {
   "cell_type": "code",
   "execution_count": 8,
   "metadata": {},
   "outputs": [],
   "source": [
    "from tensorflow.keras import models\n",
    "from tensorflow.keras import layers"
   ]
  },
  {
   "cell_type": "code",
   "execution_count": 9,
   "metadata": {},
   "outputs": [
    {
     "name": "stdout",
     "output_type": "stream",
     "text": [
      "WARNING:tensorflow:From C:\\Users\\Umair khan\\Anaconda3\\lib\\site-packages\\tensorflow\\python\\ops\\init_ops.py:1251: calling VarianceScaling.__init__ (from tensorflow.python.ops.init_ops) with dtype is deprecated and will be removed in a future version.\n",
      "Instructions for updating:\n",
      "Call initializer instance with the dtype argument instead of passing it to the constructor\n"
     ]
    }
   ],
   "source": [
    "model = models.Sequential()\n",
    "model.add(layers.Dense(16 ,activation = 'relu',input_shape = (10000,)))\n",
    "model.add(layers.Dense(16,activation = 'relu'))\n",
    "model.add(layers.Dense(1,activation = 'sigmoid'))\n"
   ]
  },
  {
   "cell_type": "markdown",
   "metadata": {},
   "source": [
    "# Compiling the model"
   ]
  },
  {
   "cell_type": "code",
   "execution_count": 10,
   "metadata": {},
   "outputs": [
    {
     "name": "stdout",
     "output_type": "stream",
     "text": [
      "WARNING:tensorflow:From C:\\Users\\Umair khan\\Anaconda3\\lib\\site-packages\\tensorflow\\python\\ops\\nn_impl.py:180: add_dispatch_support.<locals>.wrapper (from tensorflow.python.ops.array_ops) is deprecated and will be removed in a future version.\n",
      "Instructions for updating:\n",
      "Use tf.where in 2.0, which has the same broadcast rule as np.where\n"
     ]
    }
   ],
   "source": [
    "model.compile(optimizer = 'rmsprop',\n",
    "             loss = 'binary_crossentropy',\n",
    "             metrices = 'acc')\n"
   ]
  },
  {
   "cell_type": "code",
   "execution_count": 11,
   "metadata": {},
   "outputs": [],
   "source": [
    "#ub hmny apny data ko verify krengy k k kahe ye testing k waqt fail na hujaye"
   ]
  },
  {
   "cell_type": "markdown",
   "metadata": {},
   "source": [
    "# setting up validiatation"
   ]
  },
  {
   "cell_type": "code",
   "execution_count": 12,
   "metadata": {},
   "outputs": [
    {
     "data": {
      "text/plain": [
       "25000"
      ]
     },
     "execution_count": 12,
     "metadata": {},
     "output_type": "execute_result"
    }
   ],
   "source": [
    "len(x_train)"
   ]
  },
  {
   "cell_type": "code",
   "execution_count": 13,
   "metadata": {},
   "outputs": [],
   "source": [
    "x_validation = x_train[:10000]\n",
    "partial_xtrain = x_train[10000:]\n",
    "y_validation = y_train[:10000]\n",
    "partial_ytrain = y_train[10000:]"
   ]
  },
  {
   "cell_type": "code",
   "execution_count": 14,
   "metadata": {},
   "outputs": [],
   "source": [
    "#ub hm partial valy data ko validation waly p run krengy yani hm yahe isko validitate krry hain ta k hmen pta lge\n",
    "# k ye kitna prepare hai or unseen data ko face krskta hai b ya nahi???"
   ]
  },
  {
   "cell_type": "markdown",
   "metadata": {},
   "source": [
    "# training your model"
   ]
  },
  {
   "cell_type": "code",
   "execution_count": 15,
   "metadata": {},
   "outputs": [
    {
     "name": "stdout",
     "output_type": "stream",
     "text": [
      "Train on 15000 samples, validate on 10000 samples\n",
      "Epoch 1/20\n",
      "15000/15000 [==============================] - 81s 5ms/sample - loss: 0.5140 - acc: 0.7798 - val_loss: 0.3810 - val_acc: 0.8721\n",
      "Epoch 2/20\n",
      "15000/15000 [==============================] - 8s 550us/sample - loss: 0.2982 - acc: 0.9058 - val_loss: 0.2983 - val_acc: 0.8877\n",
      "Epoch 3/20\n",
      "15000/15000 [==============================] - 5s 362us/sample - loss: 0.2187 - acc: 0.9243 - val_loss: 0.2757 - val_acc: 0.8921\n",
      "Epoch 4/20\n",
      "15000/15000 [==============================] - 6s 367us/sample - loss: 0.1726 - acc: 0.9424 - val_loss: 0.2755 - val_acc: 0.8893\n",
      "Epoch 5/20\n",
      "15000/15000 [==============================] - 6s 408us/sample - loss: 0.1373 - acc: 0.9558 - val_loss: 0.3441 - val_acc: 0.8687\n",
      "Epoch 6/20\n",
      "15000/15000 [==============================] - 6s 403us/sample - loss: 0.1138 - acc: 0.9649 - val_loss: 0.2988 - val_acc: 0.8851\n",
      "Epoch 7/20\n",
      "15000/15000 [==============================] - 6s 425us/sample - loss: 0.0951 - acc: 0.9719 - val_loss: 0.3190 - val_acc: 0.8837\n",
      "Epoch 8/20\n",
      "15000/15000 [==============================] - 6s 430us/sample - loss: 0.0754 - acc: 0.9797 - val_loss: 0.3399 - val_acc: 0.8807\n",
      "Epoch 9/20\n",
      "15000/15000 [==============================] - 6s 395us/sample - loss: 0.0627 - acc: 0.9842 - val_loss: 0.3743 - val_acc: 0.8793\n",
      "Epoch 10/20\n",
      "15000/15000 [==============================] - 5s 336us/sample - loss: 0.0522 - acc: 0.9863 - val_loss: 0.3912 - val_acc: 0.8778\n",
      "Epoch 11/20\n",
      "15000/15000 [==============================] - 5s 331us/sample - loss: 0.0363 - acc: 0.9931 - val_loss: 0.4270 - val_acc: 0.8748\n",
      "Epoch 12/20\n",
      "15000/15000 [==============================] - 6s 376us/sample - loss: 0.0318 - acc: 0.9931 - val_loss: 0.4678 - val_acc: 0.8698\n",
      "Epoch 13/20\n",
      "15000/15000 [==============================] - 7s 466us/sample - loss: 0.0255 - acc: 0.9946 - val_loss: 0.5349 - val_acc: 0.8717\n",
      "Epoch 14/20\n",
      "15000/15000 [==============================] - 7s 440us/sample - loss: 0.0207 - acc: 0.9957 - val_loss: 0.5273 - val_acc: 0.8690\n",
      "Epoch 15/20\n",
      "15000/15000 [==============================] - 8s 533us/sample - loss: 0.0165 - acc: 0.9973 - val_loss: 0.5645 - val_acc: 0.8708\n",
      "Epoch 16/20\n",
      "15000/15000 [==============================] - 8s 509us/sample - loss: 0.0104 - acc: 0.9993 - val_loss: 0.6264 - val_acc: 0.8671\n",
      "Epoch 17/20\n",
      "15000/15000 [==============================] - 6s 380us/sample - loss: 0.0105 - acc: 0.9984 - val_loss: 0.6357 - val_acc: 0.8669\n",
      "Epoch 18/20\n",
      "15000/15000 [==============================] - 6s 376us/sample - loss: 0.0092 - acc: 0.9979 - val_loss: 0.6861 - val_acc: 0.8630\n",
      "Epoch 19/20\n",
      "15000/15000 [==============================] - 6s 395us/sample - loss: 0.0039 - acc: 0.9999 - val_loss: 0.7002 - val_acc: 0.8666\n",
      "Epoch 20/20\n",
      "15000/15000 [==============================] - 6s 391us/sample - loss: 0.0038 - acc: 0.9997 - val_loss: 0.7709 - val_acc: 0.8576\n"
     ]
    }
   ],
   "source": [
    "model.compile(optimizer='rmsprop',\n",
    "loss='binary_crossentropy',\n",
    "metrics=['acc'])\n",
    "umair = model.fit(partial_xtrain,\n",
    "                 partial_ytrain,\n",
    "                 epochs = 20,\n",
    "                 batch_size = 512,\n",
    "                 validation_data = (x_validation,y_validation))\n",
    "#batch size ka mtlb sir n kaha tha k ispy research kr k btauga\n",
    "# partial data ka mtlb jisko hmen test krna hau\n",
    "#epochs mtlb loop\n",
    "#partial xtrain and validate  hamaray model hai"
   ]
  },
  {
   "cell_type": "code",
   "execution_count": 16,
   "metadata": {},
   "outputs": [
    {
     "data": {
      "text/plain": [
       "dict_keys(['loss', 'acc', 'val_loss', 'val_acc'])"
      ]
     },
     "execution_count": 16,
     "metadata": {},
     "output_type": "execute_result"
    }
   ],
   "source": [
    "umair_dict = umair.history\n",
    "umair_dict.keys()\n"
   ]
  },
  {
   "cell_type": "code",
   "execution_count": 17,
   "metadata": {},
   "outputs": [],
   "source": [
    "#means our dictionary has four entries, # baqi kaam kal krna hai"
   ]
  },
  {
   "cell_type": "markdown",
   "metadata": {},
   "source": [
    "# Plotting the training and validation loss"
   ]
  },
  {
   "cell_type": "code",
   "execution_count": 21,
   "metadata": {},
   "outputs": [
    {
     "data": {
      "image/png": "[encoded data removed]",
      "text/plain": [
       "<Figure size 432x288 with 1 Axes>"
      ]
     },
     "metadata": {
      "needs_background": "light"
     },
     "output_type": "display_data"
    }
   ],
   "source": [
    "epochs = range(1,len(umair_dict['acc'])+1)\n",
    "import matplotlib.pyplot as plt\n",
    "plt.plot(umair_dict['loss'],'o',label=\"training loss\")\n",
    "plt.plot(umair_dict['val_loss'],'b',label=\"validation loss\")\n",
    "plt.xlabel(\"epochs\")\n",
    "plt.ylabel(\"loss\")\n",
    "plt.legend()\n",
    "plt.title(\"training and validation loss\")\n",
    "plt.show()\n"
   ]
  },
  {
   "cell_type": "code",
   "execution_count": 22,
   "metadata": {},
   "outputs": [
    {
     "data": {
      "image/png": "[encoded data removed]",
      "text/plain": [
       "<Figure size 432x288 with 1 Axes>"
      ]
     },
     "metadata": {
      "needs_background": "light"
     },
     "output_type": "display_data"
    }
   ],
   "source": [
    "plt.plot(umair_dict['acc'],'o',label=\"training acc\")\n",
    "plt.plot(umair_dict['val_acc'],'b',label=\"validation acc\")\n",
    "plt.xlabel(\"epochs\")\n",
    "plt.ylabel(\"acc\")\n",
    "plt.legend()\n",
    "plt.title(\"training and validation accuracy\")\n",
    "plt.show()"
   ]
  },
  {
   "cell_type": "markdown",
   "metadata": {},
   "source": [
    "# now test our model on unseen data"
   ]
  },
  {
   "cell_type": "code",
   "execution_count": 23,
   "metadata": {},
   "outputs": [],
   "source": [
    "model = models.Sequential()\n",
    "model.add(layers.Dense(16, activation='relu', input_shape=(10000,)))\n",
    "model.add(layers.Dense(16, activation='relu'))\n",
    "model.add(layers.Dense(1, activation='sigmoid'))\n",
    "model.compile(optimizer='rmsprop',\n",
    "loss='binary_crossentropy',\n",
    "metrics=['accuracy'])"
   ]
  },
  {
   "cell_type": "code",
   "execution_count": 24,
   "metadata": {},
   "outputs": [
    {
     "name": "stdout",
     "output_type": "stream",
     "text": [
      "Epoch 1/4\n",
      "25000/25000 [==============================] - 30s 1ms/sample - loss: 0.4591 - acc: 0.8252\n",
      "Epoch 2/4\n",
      "25000/25000 [==============================] - 10s 410us/sample - loss: 0.2641 - acc: 0.9071\n",
      "Epoch 3/4\n",
      "25000/25000 [==============================] - 9s 344us/sample - loss: 0.2029 - acc: 0.9282\n",
      "Epoch 4/4\n",
      "25000/25000 [==============================] - 8s 312us/sample - loss: 0.1681 - acc: 0.9391\n",
      "25000/25000 [==============================] - 107s 4ms/sample - loss: 0.2875 - acc: 0.8869\n"
     ]
    },
    {
     "data": {
      "text/plain": [
       "[0.2874804517745972, 0.88688]"
      ]
     },
     "execution_count": 24,
     "metadata": {},
     "output_type": "execute_result"
    }
   ],
   "source": [
    "model.fit(x_train,y_train,epochs = 4,batch_size = 512)\n",
    "results = model.evaluate(x_test,y_test)\n",
    "results"
   ]
  },
  {
   "cell_type": "markdown",
   "metadata": {},
   "source": [
    "# Further experiments"
   ]
  },
  {
   "cell_type": "markdown",
   "metadata": {},
   "source": [
    "try using one or three hidden layers"
   ]
  },
  {
   "cell_type": "markdown",
   "metadata": {},
   "source": [
    "try using more or fever hidden units"
   ]
  },
  {
   "cell_type": "markdown",
   "metadata": {},
   "source": [
    "try using meansquared erroe instead of binary_crossentropy"
   ]
  },
  {
   "cell_type": "markdown",
   "metadata": {},
   "source": [
    "try using tanh instead of relu activitation"
   ]
  },
  {
   "cell_type": "code",
   "execution_count": null,
   "metadata": {},
   "outputs": [],
   "source": []
  }
 ],
 "metadata": {
  "kernelspec": {
   "display_name": "Python 3",
   "language": "python",
   "name": "python3"
  },
  "language_info": {
   "codemirror_mode": {
    "name": "ipython",
    "version": 3
   },
   "file_extension": ".py",
   "mimetype": "text/x-python",
   "name": "python",
   "nbconvert_exporter": "python",
   "pygments_lexer": "ipython3",
   "version": "3.7.3"
  }
 },
 "nbformat": 4,
 "nbformat_minor": 2
}
